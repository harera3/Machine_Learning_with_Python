{
 "cells": [
  {
   "cell_type": "markdown",
   "metadata": {},
   "source": [
    "## CHAPTER 16\n",
    "---\n",
    "# LOGISTIC REGRESSION"
   ]
  },
  {
   "cell_type": "markdown",
   "metadata": {},
   "source": [
    "---\n",
    "- Logistic regression and its extensions, like multinomial logistic regression, allow us to predict the probability that an observation is of a certain class using a straightforward and well-understood approach.\n",
    "- In this chapter, we will cover training a variety of classifiers using scikit-learn."
   ]
  },
  {
   "cell_type": "markdown",
   "metadata": {},
   "source": [
    "## 16.1 Training a Binary Classifier"
   ]
  },
  {
   "cell_type": "markdown",
   "metadata": {},
   "source": [
    "- You need to train a simple classifier model.\n",
    "- Train a logistic regression in scikit-learn using `LogisticRegression`"
   ]
  },
  {
   "cell_type": "code",
   "execution_count": 1,
   "metadata": {},
   "outputs": [
    {
     "name": "stdout",
     "output_type": "stream",
     "text": [
      "Predicted Class: [1]\n",
      "Predicted Probabilities: [[0.17738424 0.82261576]]\n"
     ]
    }
   ],
   "source": [
    "# Load libraries\n",
    "from sklearn.linear_model import LogisticRegression\n",
    "from sklearn import datasets\n",
    "from sklearn.preprocessing import StandardScaler\n",
    "\n",
    "# Load data with only two classes\n",
    "iris = datasets.load_iris()\n",
    "features = iris.data[:100,:]\n",
    "target = iris.target[:100]\n",
    "\n",
    "# Standardize features\n",
    "scaler = StandardScaler()\n",
    "features_standardized = scaler.fit_transform(features)\n",
    "\n",
    "# Create logistic regression object\n",
    "logistic_regression = LogisticRegression(random_state=0)\n",
    "\n",
    "# Train model\n",
    "model = logistic_regression.fit(features_standardized, target)\n",
    "\n",
    "# Create new observation\n",
    "new_observation = [[.5, .5, .5, .5]]\n",
    "\n",
    "# Predict class\n",
    "print('Predicted Class:', model.predict(new_observation))\n",
    "\n",
    "# View predicted probabilities\n",
    "print('Predicted Probabilities:', model.predict_proba(new_observation))"
   ]
  },
  {
   "cell_type": "markdown",
   "metadata": {},
   "source": [
    "#### Discussion:\n",
    "In a logistic regression, a linear model (e.g. $\\beta_0 + \\beta_i x$) is included in a logistic (also called sigmoid) function, $\\frac{1}{1+e^{-z }}$, such that:  \n",
    "$$\n",
    "P(y_i = 1 | X) = \\frac{1}{1+e^{-(\\beta_0 + \\beta_1x)}}\n",
    "$$  \n",
    "where \n",
    "- $P(y_i = 1 | X)$ is the probability of the ith obsevation's target, \n",
    "- $y_i$ being class 1, \n",
    "- $X$ is the training data, \n",
    "- $\\beta_0$ and $\\beta_1$ are the parameters to be learned, and \n",
    "- $e$ is Euler's number.   \n",
    "\n",
    "The effect of the logistic function is to constrain the value of the function's output to between 0 and 1 so that i can be interpreted as a probability. If $P(y_i = 1 | X)$ is greater than 0.5, class 1 is predicted; otherwise class 0 is predicted"
   ]
  },
  {
   "cell_type": "markdown",
   "metadata": {},
   "source": [
    "## 16.2 Training a Multiclass Classifier"
   ]
  },
  {
   "cell_type": "markdown",
   "metadata": {},
   "source": [
    "- Given more than two classes, you need to train a classifier model\n",
    "- Train a logistic regression in scikit-learn with LogisticRegression using one-vs-rest or multinomial methods"
   ]
  },
  {
   "cell_type": "code",
   "execution_count": 2,
   "metadata": {},
   "outputs": [
    {
     "name": "stdout",
     "output_type": "stream",
     "text": [
      "Predicted Class: [2]\n",
      "Predicted Probabilities: [[0.0387617  0.40669108 0.55454723]]\n"
     ]
    }
   ],
   "source": [
    "# Load libraries\n",
    "from sklearn.linear_model import LogisticRegression\n",
    "from sklearn import datasets\n",
    "from sklearn.preprocessing import StandardScaler\n",
    "\n",
    "# Load data\n",
    "iris = datasets.load_iris()\n",
    "features = iris.data\n",
    "target = iris.target\n",
    "\n",
    "# Standardize features\n",
    "scaler = StandardScaler()\n",
    "features_standardized = scaler.fit_transform(features)\n",
    "\n",
    "# Create one-vs-rest logistic regression object\n",
    "logistic_regression = LogisticRegression(random_state=0, multi_class=\"ovr\")\n",
    "\n",
    "# Train model\n",
    "model = logistic_regression.fit(features_standardized, target)\n",
    "\n",
    "# Create new observation\n",
    "new_observation = [[.5, .5, .5, .5]]\n",
    "\n",
    "# Predict class\n",
    "print('Predicted Class:', model.predict(new_observation))\n",
    "\n",
    "# View predicted probabilities\n",
    "print('Predicted Probabilities:', model.predict_proba(new_observation))"
   ]
  },
  {
   "cell_type": "markdown",
   "metadata": {},
   "source": [
    "#### Discussion:\n",
    "On their own, logistic regressions are only binary classifiers, meaning they cannot handle target vectors with more than two classes. However, two clever extensions to logistic regression do just that. \n",
    "- First, in one-vs-rest logistic regression (OVR) a separate model is trained for each class predicted whether an observation is that class or not (thus making it a binary classification problem). It assumes that each observation problem (e.g. class 0 or not) is independent\n",
    "\n",
    "- Alternatively in multinomial logistic regression (MLR) the logistic function we saw in section 16.1 is replaced with a softmax function:$$\n",
    "P(y_I = k | X) = \\frac{e^{\\beta_k x_i}}{\\sum_{j=1}^{K}{e^{\\beta_j x_i}}}\n",
    "$$where $P(y_i = k | X)$ is the probability of the ith observation's target value, $y_i$, is class k, and K is the total number of classes. One practical advantage of the MLR is that its predicted probabilities using predict_proba method are more reliable (i.e., better calibrated).\n",
    "\n",
    "We can switch to an MNL by setting `multi_class='multinomial'`"
   ]
  },
  {
   "cell_type": "code",
   "execution_count": 3,
   "metadata": {},
   "outputs": [
    {
     "name": "stdout",
     "output_type": "stream",
     "text": [
      "Predicted Class: [1]\n",
      "Predicted Probabilities: [[0.01982185 0.74491886 0.23525928]]\n"
     ]
    }
   ],
   "source": [
    "# Create one-vs-rest logistic regression object\n",
    "logistic_regression = LogisticRegression(random_state=0, multi_class=\"multinomial\")\n",
    "\n",
    "# Train model\n",
    "model = logistic_regression.fit(features_standardized, target)\n",
    "\n",
    "# Create new observation\n",
    "new_observation = [[.5, .5, .5, .5]]\n",
    "\n",
    "# Predict class\n",
    "print('Predicted Class:', model.predict(new_observation))\n",
    "\n",
    "# View predicted probabilities\n",
    "print('Predicted Probabilities:', model.predict_proba(new_observation))"
   ]
  },
  {
   "cell_type": "markdown",
   "metadata": {},
   "source": [
    "## 16.3 Reducing Variance Through Regularization"
   ]
  },
  {
   "cell_type": "markdown",
   "metadata": {},
   "source": [
    "- You need to reduce the variance of your logistic regression model.\n",
    "- Tune the regularization strength hyperparameter, C"
   ]
  },
  {
   "cell_type": "code",
   "execution_count": null,
   "metadata": {},
   "outputs": [],
   "source": []
  }
 ],
 "metadata": {
  "kernelspec": {
   "display_name": "Python 3",
   "language": "python",
   "name": "python3"
  },
  "language_info": {
   "codemirror_mode": {
    "name": "ipython",
    "version": 3
   },
   "file_extension": ".py",
   "mimetype": "text/x-python",
   "name": "python",
   "nbconvert_exporter": "python",
   "pygments_lexer": "ipython3",
   "version": "3.7.7"
  }
 },
 "nbformat": 4,
 "nbformat_minor": 4
}
