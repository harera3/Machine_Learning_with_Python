{
 "cells": [
  {
   "cell_type": "markdown",
   "metadata": {},
   "source": [
    "# CUSTOM TRANSFORMERS AND PIPERLINES\n",
    "---"
   ]
  },
  {
   "cell_type": "markdown",
   "metadata": {},
   "source": [
    "### 1. Creating Data\n",
    "Let's create a dataframe based on the equation:\n",
    "$$\n",
    "y = {x_1} + 2\\sqrt{x_2}\n",
    "$$\n",
    "This makes sure a simple Linear Regression model won't be able to fit it"
   ]
  },
  {
   "cell_type": "code",
   "execution_count": 1,
   "metadata": {},
   "outputs": [],
   "source": [
    "import pandas as pd\n",
    "\n",
    "df = pd.DataFrame(columns=['X1', 'X2', 'y'], data=[\n",
    "                                                   [1,16,9],\n",
    "                                                   [4,36,16],\n",
    "                                                   [1,16,9],\n",
    "                                                   [2,9,8],\n",
    "                                                   [3,36,15],\n",
    "                                                   [2,49,16],\n",
    "                                                   [4,25,14],\n",
    "                                                   [5,36,17]\n",
    "])\n",
    "\n",
    "train = df.iloc[:6]\n",
    "test = df.iloc[6:]\n",
    "\n",
    "X_train = train.drop('y', axis=1)\n",
    "y_train = train.y\n",
    "\n",
    "X_test = test.drop('y', axis=1)\n",
    "y_test = test.y"
   ]
  },
  {
   "cell_type": "code",
   "execution_count": 2,
   "metadata": {},
   "outputs": [
    {
     "data": {
      "text/html": [
       "<div>\n",
       "<style scoped>\n",
       "    .dataframe tbody tr th:only-of-type {\n",
       "        vertical-align: middle;\n",
       "    }\n",
       "\n",
       "    .dataframe tbody tr th {\n",
       "        vertical-align: top;\n",
       "    }\n",
       "\n",
       "    .dataframe thead th {\n",
       "        text-align: right;\n",
       "    }\n",
       "</style>\n",
       "<table border=\"1\" class=\"dataframe\">\n",
       "  <thead>\n",
       "    <tr style=\"text-align: right;\">\n",
       "      <th></th>\n",
       "      <th>X1</th>\n",
       "      <th>X2</th>\n",
       "      <th>y</th>\n",
       "    </tr>\n",
       "  </thead>\n",
       "  <tbody>\n",
       "    <tr>\n",
       "      <th>0</th>\n",
       "      <td>1</td>\n",
       "      <td>16</td>\n",
       "      <td>9</td>\n",
       "    </tr>\n",
       "    <tr>\n",
       "      <th>1</th>\n",
       "      <td>4</td>\n",
       "      <td>36</td>\n",
       "      <td>16</td>\n",
       "    </tr>\n",
       "    <tr>\n",
       "      <th>2</th>\n",
       "      <td>1</td>\n",
       "      <td>16</td>\n",
       "      <td>9</td>\n",
       "    </tr>\n",
       "    <tr>\n",
       "      <th>3</th>\n",
       "      <td>2</td>\n",
       "      <td>9</td>\n",
       "      <td>8</td>\n",
       "    </tr>\n",
       "    <tr>\n",
       "      <th>4</th>\n",
       "      <td>3</td>\n",
       "      <td>36</td>\n",
       "      <td>15</td>\n",
       "    </tr>\n",
       "    <tr>\n",
       "      <th>5</th>\n",
       "      <td>2</td>\n",
       "      <td>49</td>\n",
       "      <td>16</td>\n",
       "    </tr>\n",
       "    <tr>\n",
       "      <th>6</th>\n",
       "      <td>4</td>\n",
       "      <td>25</td>\n",
       "      <td>14</td>\n",
       "    </tr>\n",
       "    <tr>\n",
       "      <th>7</th>\n",
       "      <td>5</td>\n",
       "      <td>36</td>\n",
       "      <td>17</td>\n",
       "    </tr>\n",
       "  </tbody>\n",
       "</table>\n",
       "</div>"
      ],
      "text/plain": [
       "   X1  X2   y\n",
       "0   1  16   9\n",
       "1   4  36  16\n",
       "2   1  16   9\n",
       "3   2   9   8\n",
       "4   3  36  15\n",
       "5   2  49  16\n",
       "6   4  25  14\n",
       "7   5  36  17"
      ]
     },
     "execution_count": 2,
     "metadata": {},
     "output_type": "execute_result"
    }
   ],
   "source": [
    "df"
   ]
  },
  {
   "cell_type": "code",
   "execution_count": 3,
   "metadata": {},
   "outputs": [
    {
     "data": {
      "text/html": [
       "<div>\n",
       "<style scoped>\n",
       "    .dataframe tbody tr th:only-of-type {\n",
       "        vertical-align: middle;\n",
       "    }\n",
       "\n",
       "    .dataframe tbody tr th {\n",
       "        vertical-align: top;\n",
       "    }\n",
       "\n",
       "    .dataframe thead th {\n",
       "        text-align: right;\n",
       "    }\n",
       "</style>\n",
       "<table border=\"1\" class=\"dataframe\">\n",
       "  <thead>\n",
       "    <tr style=\"text-align: right;\">\n",
       "      <th></th>\n",
       "      <th>X1</th>\n",
       "      <th>X2</th>\n",
       "    </tr>\n",
       "  </thead>\n",
       "  <tbody>\n",
       "    <tr>\n",
       "      <th>0</th>\n",
       "      <td>1</td>\n",
       "      <td>16</td>\n",
       "    </tr>\n",
       "    <tr>\n",
       "      <th>1</th>\n",
       "      <td>4</td>\n",
       "      <td>36</td>\n",
       "    </tr>\n",
       "    <tr>\n",
       "      <th>2</th>\n",
       "      <td>1</td>\n",
       "      <td>16</td>\n",
       "    </tr>\n",
       "    <tr>\n",
       "      <th>3</th>\n",
       "      <td>2</td>\n",
       "      <td>9</td>\n",
       "    </tr>\n",
       "    <tr>\n",
       "      <th>4</th>\n",
       "      <td>3</td>\n",
       "      <td>36</td>\n",
       "    </tr>\n",
       "    <tr>\n",
       "      <th>5</th>\n",
       "      <td>2</td>\n",
       "      <td>49</td>\n",
       "    </tr>\n",
       "  </tbody>\n",
       "</table>\n",
       "</div>"
      ],
      "text/plain": [
       "   X1  X2\n",
       "0   1  16\n",
       "1   4  36\n",
       "2   1  16\n",
       "3   2   9\n",
       "4   3  36\n",
       "5   2  49"
      ]
     },
     "execution_count": 3,
     "metadata": {},
     "output_type": "execute_result"
    }
   ],
   "source": [
    "X_train"
   ]
  },
  {
   "cell_type": "code",
   "execution_count": 4,
   "metadata": {},
   "outputs": [
    {
     "data": {
      "text/html": [
       "<div>\n",
       "<style scoped>\n",
       "    .dataframe tbody tr th:only-of-type {\n",
       "        vertical-align: middle;\n",
       "    }\n",
       "\n",
       "    .dataframe tbody tr th {\n",
       "        vertical-align: top;\n",
       "    }\n",
       "\n",
       "    .dataframe thead th {\n",
       "        text-align: right;\n",
       "    }\n",
       "</style>\n",
       "<table border=\"1\" class=\"dataframe\">\n",
       "  <thead>\n",
       "    <tr style=\"text-align: right;\">\n",
       "      <th></th>\n",
       "      <th>X1</th>\n",
       "      <th>X2</th>\n",
       "    </tr>\n",
       "  </thead>\n",
       "  <tbody>\n",
       "    <tr>\n",
       "      <th>6</th>\n",
       "      <td>4</td>\n",
       "      <td>25</td>\n",
       "    </tr>\n",
       "    <tr>\n",
       "      <th>7</th>\n",
       "      <td>5</td>\n",
       "      <td>36</td>\n",
       "    </tr>\n",
       "  </tbody>\n",
       "</table>\n",
       "</div>"
      ],
      "text/plain": [
       "   X1  X2\n",
       "6   4  25\n",
       "7   5  36"
      ]
     },
     "execution_count": 4,
     "metadata": {},
     "output_type": "execute_result"
    }
   ],
   "source": [
    "X_test"
   ]
  },
  {
   "cell_type": "code",
   "execution_count": 5,
   "metadata": {},
   "outputs": [
    {
     "data": {
      "text/plain": [
       "0     9\n",
       "1    16\n",
       "2     9\n",
       "3     8\n",
       "4    15\n",
       "5    16\n",
       "Name: y, dtype: int64"
      ]
     },
     "execution_count": 5,
     "metadata": {},
     "output_type": "execute_result"
    }
   ],
   "source": [
    "y_train"
   ]
  },
  {
   "cell_type": "code",
   "execution_count": 6,
   "metadata": {},
   "outputs": [
    {
     "data": {
      "text/plain": [
       "6    14\n",
       "7    17\n",
       "Name: y, dtype: int64"
      ]
     },
     "execution_count": 6,
     "metadata": {},
     "output_type": "execute_result"
    }
   ],
   "source": [
    "y_test"
   ]
  },
  {
   "cell_type": "markdown",
   "metadata": {},
   "source": [
    "### 2. Linear Regression Model\n",
    "Let's predict with `Linear Regression` to see what happens:"
   ]
  },
  {
   "cell_type": "code",
   "execution_count": 7,
   "metadata": {},
   "outputs": [
    {
     "name": "stdout",
     "output_type": "stream",
     "text": [
      "\n",
      "[13.72113586 16.93334467]\n",
      "RMSE: 0.20274138822160784\n",
      "\n"
     ]
    }
   ],
   "source": [
    "import numpy as np\n",
    "from sklearn.linear_model import LinearRegression\n",
    "from sklearn.metrics import mean_squared_error\n",
    "\n",
    "lr = LinearRegression()\n",
    "lr_fit = lr.fit(X_train, y_train)\n",
    "preds = lr_fit.predict(X_test)\n",
    "lr_mse = mean_squared_error(y_test, preds)\n",
    "print(f\"\\n{preds}\")\n",
    "print(f\"RMSE: {np.sqrt(lr_mse)}\\n\")"
   ]
  },
  {
   "cell_type": "markdown",
   "metadata": {},
   "source": [
    "A perfect predictions would be 14 and 17 with zero error. The predictions are not bad though but let's do some calculations on the input features to make this better!\n",
    "\n",
    "- What if we square_root $x_2$ and multiply by 2?"
   ]
  },
  {
   "cell_type": "code",
   "execution_count": 8,
   "metadata": {
    "scrolled": true
   },
   "outputs": [
    {
     "name": "stdout",
     "output_type": "stream",
     "text": [
      "   X1    X2\n",
      "6   4  10.0\n",
      "7   5  12.0\n",
      "\n",
      "[14. 17.]\n",
      "RMSE: 5.17892563931115e-15\n",
      "\n"
     ]
    }
   ],
   "source": [
    "X_train.X2 = 2 * np.sqrt(X_train.X2)\n",
    "X_test.X2 = 2 * np.sqrt(X_test.X2)\n",
    "print(X_test)\n",
    "m2 = LinearRegression()\n",
    "fit2 = m2.fit(X_train, y_train)\n",
    "preds = fit2.predict(X_test)\n",
    "print(f\"\\n{preds}\")\n",
    "print(f\"RMSE: {np.sqrt(mean_squared_error(y_test, preds))}\\n\")"
   ]
  },
  {
   "cell_type": "markdown",
   "metadata": {},
   "source": [
    "The input manipulation caused a perfect linear fit. \n",
    "\n",
    "Le't see how to do it with a `Pipeline`\n",
    "\n",
    "### 3. Linear Regression with a Pipeline\n",
    "\n",
    "- First **`without input transformation`** to validate that we can get the same results as before:"
   ]
  },
  {
   "cell_type": "code",
   "execution_count": 9,
   "metadata": {},
   "outputs": [
    {
     "name": "stdout",
     "output_type": "stream",
     "text": [
      "Pipeline 1\n",
      "fit pipeline 1\n",
      "predict via pipeline 1\n",
      "\n",
      "[13.72113586 16.93334467]\n",
      "RMSE: 0.20274138822160784\n",
      "\n"
     ]
    }
   ],
   "source": [
    "# let's go back to original data\n",
    "\n",
    "train = df.iloc[:6]\n",
    "test = df.iloc[6:]\n",
    "\n",
    "X_train = train.drop('y', axis=1)\n",
    "y_train = train.y\n",
    "\n",
    "X_test = test.drop('y', axis=1)\n",
    "y_test = test.y\n",
    "\n",
    "# let's create a pipeline\n",
    "from sklearn.pipeline import Pipeline\n",
    "\n",
    "print(\"Pipeline 1\")\n",
    "pipe1 = Pipeline(steps=[\n",
    "    ('linear_model', LinearRegression())\n",
    "])\n",
    "print(\"fit pipeline 1\")\n",
    "pipe1.fit(X_train, y_train)\n",
    "print(\"predict via pipeline 1\")\n",
    "preds1 = pipe1.predict(X_test)\n",
    "print(f\"\\n{preds1}\")  # should be [13.72113586 16.93334467]\n",
    "print(f\"RMSE: {np.sqrt(mean_squared_error(y_test, preds1))}\\n\")"
   ]
  },
  {
   "cell_type": "markdown",
   "metadata": {},
   "source": [
    "How we did it:\n",
    "- We declared a `pipe1` variable using *Pipeline* class with array of *steps* inside it\n",
    "    - The name of the step (in this case `linear_model`) could be anything unique of our choice\n",
    "    - It is followed by an actial `Transformer` or `Estimator` (in this case, our `LinearRegression()` model)\n",
    "- Like any model, `LinearRegression()` is fitted on the training data, but using the `pipe1` variable\n",
    "- `pipe1` is also used to predict on test set as one would do in any other model\n",
    "- We got the results that we expected. Awesome!!!\n",
    "\n",
    "### 4. Creating a Custom Input Transformer\n",
    "To perform the input calculations or transformations, we will design a custom transformer:"
   ]
  },
  {
   "cell_type": "code",
   "execution_count": 10,
   "metadata": {},
   "outputs": [],
   "source": [
    "from sklearn.base import BaseEstimator, TransformerMixin\n",
    "\n",
    "class ExperimentalTransformer(BaseEstimator, TransformerMixin):\n",
    "    def __init__(self):\n",
    "        print('\\n>>>>>>>init() called.\\n')\n",
    "\n",
    "    def fit(self, X, y = None):\n",
    "        print('\\n>>>>>>>fit() called.\\n')\n",
    "        return self\n",
    "\n",
    "    def transform(self, X, y = None):\n",
    "        print('\\n>>>>>>>transform() called.\\n')\n",
    "        X_ = X.copy() # creating a copy to avoid changes to original dataset\n",
    "        X_.X2 = 2 * np.sqrt(X_.X2)\n",
    "        return X_"
   ]
  },
  {
   "cell_type": "markdown",
   "metadata": {},
   "source": [
    "We created a class and named it `ExperimentalTransformer`. All transformers we design will inherit from `BaseEstimator` and `TransformerMixin` classes as they give us pre-existing methods for free. The 3 methods to take care of:\n",
    "- `__init__`: this is the constructor. It is called when the pipeline is initiated\n",
    "- `fit()`: called when we fit the pipeline\n",
    "- `transformer()`: called when we use fit or transform on the pipeline\n",
    "\n",
    "For the moment, we just put print() messages in __ init__ & fit(), and wrote our calculations in transform(). As we see above, we returned x when fit() or transform() is called\n",
    "\n",
    "Let's put this into a pipeline to see the order in which these functions are called!\n",
    "\n",
    "### 5. Custom Transformer in a Pipeline"
   ]
  },
  {
   "cell_type": "code",
   "execution_count": 11,
   "metadata": {},
   "outputs": [
    {
     "name": "stdout",
     "output_type": "stream",
     "text": [
      "Pipeline 2\n",
      "\n",
      ">>>>>>>init() called.\n",
      "\n",
      "fit pipeline 2\n",
      "\n",
      ">>>>>>>fit() called.\n",
      "\n",
      "\n",
      ">>>>>>>transform() called.\n",
      "\n",
      "predict via pipeline 2\n",
      "\n",
      ">>>>>>>transform() called.\n",
      "\n",
      "\n",
      "[14. 17.]\n",
      "RMSE: 5.17892563931115e-15\n",
      "\n"
     ]
    }
   ],
   "source": [
    "print(\"Pipeline 2\")\n",
    "pipe2 = Pipeline(steps=[\n",
    "    ('experimental_trans', ExperimentalTransformer()),    # this will trigger a call to __init__\n",
    "    ('linear_model', LinearRegression())\n",
    "])\n",
    "print(\"fit pipeline 2\")\n",
    "pipe2.fit(X_train, y_train)\n",
    "print(\"predict via pipeline 2\")\n",
    "preds2 = pipe2.predict(X_test)\n",
    "print(f\"\\n{preds2}\")  # should be [14. 17.]\n",
    "print(f\"RMSE: {np.sqrt(mean_squared_error(y_test, preds2))}\\n\")"
   ]
  },
  {
   "cell_type": "code",
   "execution_count": 12,
   "metadata": {},
   "outputs": [
    {
     "name": "stdout",
     "output_type": "stream",
     "text": [
      "Pipeline 2\n",
      "\n",
      ">>>>>>>init() called.\n",
      "\n",
      "fit pipeline 2\n",
      "\n",
      ">>>>>>>fit() called.\n",
      "\n",
      "\n",
      ">>>>>>>transform() called.\n",
      "\n",
      "predict via pipeline 2\n",
      "\n",
      ">>>>>>>transform() called.\n",
      "\n",
      "\n",
      "[14. 17.]\n",
      "RMSE: 5.17892563931115e-15\n",
      "\n"
     ]
    }
   ],
   "source": [
    "# an alternate, shorter syntax to do the above, without naming each step, is:\n",
    "from sklearn.pipeline import make_pipeline\n",
    "\n",
    "print(\"Pipeline 2\")\n",
    "pipe2 = make_pipeline(ExperimentalTransformer(), # this will trigger a call to __init__\n",
    "                      LinearRegression())\n",
    "print(\"fit pipeline 2\")\n",
    "pipe2.fit(X_train, y_train)\n",
    "print(\"predict via pipeline 2\")\n",
    "preds2 = pipe2.predict(X_test)\n",
    "print(f\"\\n{preds2}\")  # should be [14. 17.]\n",
    "print(f\"RMSE: {np.sqrt(mean_squared_error(y_test, preds2))}\\n\")"
   ]
  },
  {
   "cell_type": "markdown",
   "metadata": {},
   "source": [
    "Three important things to not:\n",
    "- __ init__ was called the moment we initialized the pipe2 variable\n",
    "- Both fit() and transform() of our ExperimentTransformer were called when we fitted the pipeline on training data. This makes sense as that is how model fitting works: you would need to transform in put features while trying to predict y_train\n",
    "- transform() is called, as expected, when we call predict(X_test) - the input test features need to be square-rooted and doubled too before making predictions. \n",
    "\n",
    "The result - perfect predictions!\n",
    "\n",
    "### 6. Modifying and Parametizing Transformers\n",
    "\n",
    "But we've assumed in the transform() function of our ExperimentalTransformer that the column name is X2. Let's not do so and pass the column name via the constructor __ init__()\n",
    "\n",
    "Here is our `ExperimentalTransformer_2`:"
   ]
  },
  {
   "cell_type": "code",
   "execution_count": 13,
   "metadata": {},
   "outputs": [],
   "source": [
    "from sklearn.base import BaseEstimator, TransformerMixin\n",
    "\n",
    "class ExperimentalTransformer_2(BaseEstimator, TransformerMixin):\n",
    "    # let's add two parameters for fun\n",
    "    def __init__(self, feature_name, additional_param = 'Himanshu'):\n",
    "        print('\\n>>>>>>>init() called.\\n')\n",
    "        self.feature_name = feature_name\n",
    "        self.additional_param = additional_param\n",
    "\n",
    "    def fit(self, X, y = None):\n",
    "        print('\\n>>>>>>>fit() called.\\n')\n",
    "        print(f'\\nadditional param ~~~~ {self.additional_param}\\n')\n",
    "        return self\n",
    "\n",
    "    def transform(self, X, y = None):\n",
    "        print('\\n>>>>>>>transform() called.\\n')\n",
    "        X_ = X.copy() # creating a copy to avoid changes to original dataset\n",
    "        X_[self.feature_name] = 2 * np.sqrt(X_[self.feature_name])\n",
    "        return X_"
   ]
  },
  {
   "cell_type": "markdown",
   "metadata": {},
   "source": [
    "- Take care to keep the parameter name exactly the same in the function argument as well as the class' variable (feature_name). \n",
    "- Changing that will cause problems later when we also try to transform the target feature (y). \n",
    "- It causes a double-call to __ init__ for some reason.\n",
    "- The `additional_param` with a default value was added just to mix things up. It's not really needed for anything in our case and acts as an optional argument\n",
    "\n",
    "### 7. Parametized Transformer in a Pipeline\n",
    "\n",
    "Let's create the new pipeline now:"
   ]
  },
  {
   "cell_type": "code",
   "execution_count": 14,
   "metadata": {},
   "outputs": [
    {
     "name": "stdout",
     "output_type": "stream",
     "text": [
      "Pipeline 3\n",
      "\n",
      ">>>>>>>init() called.\n",
      "\n",
      "fit pipeline 3\n",
      "\n",
      ">>>>>>>fit() called.\n",
      "\n",
      "\n",
      "additional param ~~~~ Himanshu\n",
      "\n",
      "\n",
      ">>>>>>>transform() called.\n",
      "\n",
      "predict via pipeline 3\n",
      "\n",
      ">>>>>>>transform() called.\n",
      "\n",
      "\n",
      "[14. 17.]\n",
      "RMSE: 5.17892563931115e-15\n",
      "\n"
     ]
    }
   ],
   "source": [
    "print(\"Pipeline 3\")\n",
    "pipe3 = Pipeline(steps=[\n",
    "    ('experimental_trans', ExperimentalTransformer_2('X2')),   \n",
    "    ('linear_model', LinearRegression())\n",
    "])\n",
    "print(\"fit pipeline 3\")\n",
    "pipe3.fit(X_train, y_train)\n",
    "print(\"predict via pipeline 3\")\n",
    "preds3 = pipe2.predict(X_test)\n",
    "print(f\"\\n{preds2}\")  # should be [14. 17.]\n",
    "print(f\"RMSE: {np.sqrt(mean_squared_error(y_test, preds3))}\\n\")"
   ]
  },
  {
   "cell_type": "markdown",
   "metadata": {},
   "source": [
    "### 8. Custom Target Transformation\n",
    "\n",
    "via TransformedTargetRegressor\n",
    "\n",
    "- What about a situation when some pre- and post-processing needs to be done?\n",
    "- Let's go further and modify the dataframe to have target as squares of current values. The new function is:\n",
    "$$\n",
    "\\sqrt{y} = {x_1} + 2*\\sqrt{x_2}\n",
    "$$"
   ]
  },
  {
   "cell_type": "code",
   "execution_count": 16,
   "metadata": {},
   "outputs": [
    {
     "name": "stdout",
     "output_type": "stream",
     "text": [
      "Pipeline 1\n",
      "fit pipeline 1\n",
      "predict via pipeline 1\n",
      "\n",
      "[200.34790002 279.04738423]\n",
      "RMSE: 7.679804528409069\n",
      "\n"
     ]
    }
   ],
   "source": [
    "df = pd.DataFrame(columns=['X1', 'X2', 'y'], data=[\n",
    "                                                   [1,16,81],\n",
    "                                                   [4,36,256],\n",
    "                                                   [1,16,81],\n",
    "                                                   [2,9,64],\n",
    "                                                   [3,36,225],\n",
    "                                                   [2,49,256],\n",
    "                                                   [4,25,196],\n",
    "                                                   [5,36,289]\n",
    "])\n",
    "\n",
    "train = df.iloc[:6]\n",
    "test = df.iloc[6:]\n",
    "\n",
    "X_train = train.drop('y', axis=1)\n",
    "y_train = train.y\n",
    "\n",
    "X_test = test.drop('y', axis=1)\n",
    "y_test = test.y\n",
    "\n",
    "# let's see model's performance with no input & target transformations:\n",
    "print(\"Pipeline 1\")\n",
    "pipe1 = Pipeline(steps=[\n",
    "    ('linear_model', LinearRegression())\n",
    "])\n",
    "print(\"fit pipeline 1\")\n",
    "pipe1.fit(X_train, y_train)\n",
    "print(\"predict via pipeline 1\")\n",
    "preds1 = pipe1.predict(X_test)\n",
    "print(f\"\\n{preds1}\")  # should be [13.72113586 16.93334467]\n",
    "print(f\"RMSE: {np.sqrt(mean_squared_error(y_test, preds1))}\\n\")"
   ]
  },
  {
   "cell_type": "code",
   "execution_count": null,
   "metadata": {},
   "outputs": [],
   "source": []
  }
 ],
 "metadata": {
  "kernelspec": {
   "display_name": "Python 3",
   "language": "python",
   "name": "python3"
  },
  "language_info": {
   "codemirror_mode": {
    "name": "ipython",
    "version": 3
   },
   "file_extension": ".py",
   "mimetype": "text/x-python",
   "name": "python",
   "nbconvert_exporter": "python",
   "pygments_lexer": "ipython3",
   "version": "3.7.7"
  }
 },
 "nbformat": 4,
 "nbformat_minor": 4
}
