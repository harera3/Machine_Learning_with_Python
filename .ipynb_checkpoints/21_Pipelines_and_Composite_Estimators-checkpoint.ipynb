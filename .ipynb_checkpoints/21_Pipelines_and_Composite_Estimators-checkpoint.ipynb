{
 "cells": [
  {
   "cell_type": "markdown",
   "metadata": {},
   "source": [
    "# 21. PIPELINES AND COMPOSITE ESTIMATORS\n",
    "---"
   ]
  },
  {
   "cell_type": "markdown",
   "metadata": {},
   "source": [
    "- [Step by Step Guide](https://medium.com/analytics-vidhya/scikit-learn-pipelines-with-custom-transformer-a-step-by-step-guide-9b9b886fd2cc)\n",
    "- [Jupyter Notebook](https://github.com/abhi-rawat1/machine_learning_projects/blob/master/Sklearn_Pipeline_Custom_transformer/Titanic_Model_With_Pipeline_CustomTransformer.ipynb)"
   ]
  },
  {
   "cell_type": "markdown",
   "metadata": {},
   "source": [
    "### 1.1 Dataset Exploration"
   ]
  },
  {
   "cell_type": "code",
   "execution_count": 1,
   "metadata": {},
   "outputs": [
    {
     "data": {
      "text/html": [
       "<div>\n",
       "<style scoped>\n",
       "    .dataframe tbody tr th:only-of-type {\n",
       "        vertical-align: middle;\n",
       "    }\n",
       "\n",
       "    .dataframe tbody tr th {\n",
       "        vertical-align: top;\n",
       "    }\n",
       "\n",
       "    .dataframe thead th {\n",
       "        text-align: right;\n",
       "    }\n",
       "</style>\n",
       "<table border=\"1\" class=\"dataframe\">\n",
       "  <thead>\n",
       "    <tr style=\"text-align: right;\">\n",
       "      <th></th>\n",
       "      <th>Survived</th>\n",
       "      <th>Pclass</th>\n",
       "      <th>Name</th>\n",
       "      <th>Sex</th>\n",
       "      <th>Age</th>\n",
       "      <th>SibSp</th>\n",
       "      <th>Parch</th>\n",
       "      <th>Ticket</th>\n",
       "      <th>Fare</th>\n",
       "      <th>Cabin</th>\n",
       "      <th>Embarked</th>\n",
       "    </tr>\n",
       "  </thead>\n",
       "  <tbody>\n",
       "    <tr>\n",
       "      <th>0</th>\n",
       "      <td>0</td>\n",
       "      <td>3</td>\n",
       "      <td>Braund, Mr. Owen Harris</td>\n",
       "      <td>male</td>\n",
       "      <td>22.0</td>\n",
       "      <td>1</td>\n",
       "      <td>0</td>\n",
       "      <td>A/5 21171</td>\n",
       "      <td>7.2500</td>\n",
       "      <td>NaN</td>\n",
       "      <td>S</td>\n",
       "    </tr>\n",
       "    <tr>\n",
       "      <th>1</th>\n",
       "      <td>1</td>\n",
       "      <td>1</td>\n",
       "      <td>Cumings, Mrs. John Bradley (Florence Briggs Th...</td>\n",
       "      <td>female</td>\n",
       "      <td>38.0</td>\n",
       "      <td>1</td>\n",
       "      <td>0</td>\n",
       "      <td>PC 17599</td>\n",
       "      <td>71.2833</td>\n",
       "      <td>C85</td>\n",
       "      <td>C</td>\n",
       "    </tr>\n",
       "    <tr>\n",
       "      <th>2</th>\n",
       "      <td>1</td>\n",
       "      <td>3</td>\n",
       "      <td>Heikkinen, Miss. Laina</td>\n",
       "      <td>female</td>\n",
       "      <td>26.0</td>\n",
       "      <td>0</td>\n",
       "      <td>0</td>\n",
       "      <td>STON/O2. 3101282</td>\n",
       "      <td>7.9250</td>\n",
       "      <td>NaN</td>\n",
       "      <td>S</td>\n",
       "    </tr>\n",
       "    <tr>\n",
       "      <th>3</th>\n",
       "      <td>1</td>\n",
       "      <td>1</td>\n",
       "      <td>Futrelle, Mrs. Jacques Heath (Lily May Peel)</td>\n",
       "      <td>female</td>\n",
       "      <td>35.0</td>\n",
       "      <td>1</td>\n",
       "      <td>0</td>\n",
       "      <td>113803</td>\n",
       "      <td>53.1000</td>\n",
       "      <td>C123</td>\n",
       "      <td>S</td>\n",
       "    </tr>\n",
       "    <tr>\n",
       "      <th>4</th>\n",
       "      <td>0</td>\n",
       "      <td>3</td>\n",
       "      <td>Allen, Mr. William Henry</td>\n",
       "      <td>male</td>\n",
       "      <td>35.0</td>\n",
       "      <td>0</td>\n",
       "      <td>0</td>\n",
       "      <td>373450</td>\n",
       "      <td>8.0500</td>\n",
       "      <td>NaN</td>\n",
       "      <td>S</td>\n",
       "    </tr>\n",
       "  </tbody>\n",
       "</table>\n",
       "</div>"
      ],
      "text/plain": [
       "   Survived  Pclass                                               Name  \\\n",
       "0         0       3                            Braund, Mr. Owen Harris   \n",
       "1         1       1  Cumings, Mrs. John Bradley (Florence Briggs Th...   \n",
       "2         1       3                             Heikkinen, Miss. Laina   \n",
       "3         1       1       Futrelle, Mrs. Jacques Heath (Lily May Peel)   \n",
       "4         0       3                           Allen, Mr. William Henry   \n",
       "\n",
       "      Sex   Age  SibSp  Parch            Ticket     Fare Cabin Embarked  \n",
       "0    male  22.0      1      0         A/5 21171   7.2500   NaN        S  \n",
       "1  female  38.0      1      0          PC 17599  71.2833   C85        C  \n",
       "2  female  26.0      0      0  STON/O2. 3101282   7.9250   NaN        S  \n",
       "3  female  35.0      1      0            113803  53.1000  C123        S  \n",
       "4    male  35.0      0      0            373450   8.0500   NaN        S  "
      ]
     },
     "execution_count": 1,
     "metadata": {},
     "output_type": "execute_result"
    }
   ],
   "source": [
    "import numpy as np\n",
    "import pandas as pd\n",
    "\n",
    "titanic_df = pd.read_csv('data/titanic_train.csv')\n",
    "titanic_df = titanic_df.drop('PassengerId', axis=1)\n",
    "titanic_df.head()"
   ]
  },
  {
   "cell_type": "code",
   "execution_count": 2,
   "metadata": {},
   "outputs": [
    {
     "data": {
      "text/plain": [
       "Survived      int64\n",
       "Pclass        int64\n",
       "Name         object\n",
       "Sex          object\n",
       "Age         float64\n",
       "SibSp         int64\n",
       "Parch         int64\n",
       "Ticket       object\n",
       "Fare        float64\n",
       "Cabin        object\n",
       "Embarked     object\n",
       "dtype: object"
      ]
     },
     "execution_count": 2,
     "metadata": {},
     "output_type": "execute_result"
    }
   ],
   "source": [
    "titanic_df.dtypes"
   ]
  },
  {
   "cell_type": "markdown",
   "metadata": {},
   "source": [
    "There are 11 columns in this dataset. We can place them into 3 categories:\n",
    "- Target feature: `Survived`, numerical data type\n",
    "- Numerical features: `Age` and `Fare` are continuous features\n",
    "- Categorical features:\n",
    "    - `Pclass, Sex, SibSp, Parch` and `Embarked` won't need custom transformation\n",
    "    - `Name` and `Cabin` are free-text features that need custom transformation\n",
    "    \n",
    "##### Dataset Split"
   ]
  },
  {
   "cell_type": "code",
   "execution_count": 3,
   "metadata": {},
   "outputs": [],
   "source": [
    "from sklearn.model_selection import train_test_split\n",
    "\n",
    "# Split the data into train and test.\n",
    "X = titanic_df.drop('Survived', axis=1)\n",
    "y = titanic_df['Survived']\n",
    "X_train, X_test, y_train, y_test = train_test_split(X, y, test_size=0.2)"
   ]
  },
  {
   "cell_type": "code",
   "execution_count": 4,
   "metadata": {},
   "outputs": [],
   "source": [
    "num_feat = ['Age', 'Fare']\n",
    "cat_feat = ['Pclass', 'Sex', 'SibSp', 'Parch', 'Embarked']\n",
    "name_feat = ['Name']\n",
    "cabin_feat = ['Cabin']"
   ]
  },
  {
   "cell_type": "markdown",
   "metadata": {},
   "source": [
    "### 1.2 Standard Transformation\n",
    "\n",
    "Here we create pipelines for standard transformation (built-in transformers are used) of numeric and categorical features. \n",
    "- Numeric features: \n",
    "    - SimpleImputer('median'): this transformer will replace empty (NaN) values with the meadian of corresponding column\n",
    "    - StandardScaler: this will standardize numerical columns so that the mean is zero and the standard deviation is 1\n",
    "- Categorical features:\n",
    "    - SimpleImputer('constant', 'missing'): this will replace missing values with a constant called `missing` (fill_value)\n",
    "        - *Notes*: The strategy for SimpleImputer can be mean, median, most_frequent, or constant. When it is constant, fill_value is used to replace all occurrences of missing values. Fill_value can be a string or a numerical value. When 'constant' is left to default, fill_value will be 0 for numerical data and 'missing_value' for strings or object data types.\n",
    "    - OneHotEncoder: will encode categorical features as a one-hot numeric array\n",
    "    \n",
    "Here are out standard transformers:"
   ]
  },
  {
   "cell_type": "code",
   "execution_count": 5,
   "metadata": {},
   "outputs": [],
   "source": [
    "from sklearn.pipeline import Pipeline\n",
    "from sklearn.impute import SimpleImputer\n",
    "from sklearn.preprocessing import StandardScaler\n",
    "from sklearn.preprocessing import OneHotEncoder\n",
    "\n",
    "num_pipe = Pipeline(steps=[\n",
    "    ('imputer', SimpleImputer(strategy='median')),\n",
    "    ('scaler', StandardScaler())\n",
    "])\n",
    "\n",
    "cat_pipe = Pipeline(steps=[\n",
    "    ('imputer', SimpleImputer(strategy='constant', \n",
    "                              fill_value='missing')),\n",
    "    ('encoder', OneHotEncoder())\n",
    "])"
   ]
  },
  {
   "cell_type": "markdown",
   "metadata": {},
   "source": [
    "### 1.3 Custom Transformation\n",
    "\n",
    "To process `Cabin` and `Name` features, we will create custom transformers because these two features can't be directly transformed by our standard transformers."
   ]
  },
  {
   "cell_type": "code",
   "execution_count": 6,
   "metadata": {},
   "outputs": [],
   "source": [
    "from sklearn.base import BaseEstimator, TransformerMixin\n",
    "\n",
    "class CabinFeatureTransformer(BaseEstimator, TransformerMixin):\n",
    "    def __init__(self):\n",
    "        print('in the CabinFeatureTransformer init method: ')\n",
    "        \n",
    "    def fit(self, x, y=None):\n",
    "        x.Cabin.fillna('U', inplace=True)\n",
    "        x['Cabin'] = x['Cabin'].map(lambda c: c[0])\n",
    "        \n",
    "        cabin_dummies = pd.get_dummies(x['Cabin'], prefix='Cabin')    \n",
    "        self.cabin_columns=  cabin_dummies.columns\n",
    "        return self\n",
    "\n",
    "    def transform(self, x):\n",
    "        # replacing missing cabins with U (for Uknown)\n",
    "        x.Cabin.fillna('U', inplace=True)\n",
    "    \n",
    "        # mapping each Cabin value with the cabin letter\n",
    "        x['Cabin'] = x['Cabin'].map(lambda c: c[0])\n",
    "        \n",
    "        cabin_dummies = pd.get_dummies(x['Cabin'], prefix='Cabin') \n",
    "        cabin_dummies = cabin_dummies.reindex(columns = self.cabin_columns, fill_value=0)\n",
    "        \n",
    "        x = pd.concat([x, cabin_dummies], axis=1)\n",
    "\n",
    "        x.drop('Cabin', axis=1, inplace=True)\n",
    "    \n",
    "        return x"
   ]
  },
  {
   "cell_type": "markdown",
   "metadata": {},
   "source": [
    "Explaining `CabinFeatureTransformer`:\n",
    "- Fit method:\n",
    "    - All empty (na) values are replaced with `U`\n",
    "    - Values are replaced with first character of their respective values\n",
    "    - The unique values are determined via `get_dummies` method. They are saved in 'self.cabin_columns' to be used in the transform method\n",
    "- Transform method:\n",
    "    - Same as fit method\n",
    "    - We are re-indexing these new columns based on already saved 'self.cabin_columns' values. The purpose of doing this is to avoid addition of new column based on new Cabin value in test data. Otherwise model prediction will gain on test data due to feature count mismatch. That's why we are not applying LabeEncoder or OneHotEncoder on this feature and going with CustomTransformer."
   ]
  },
  {
   "cell_type": "code",
   "execution_count": 7,
   "metadata": {},
   "outputs": [],
   "source": [
    "class NameFeatureTransformer(BaseEstimator, TransformerMixin):\n",
    "    def __init__(self):\n",
    "        print('in the NameFeatureTransformer Init method: ')\n",
    "        \n",
    "    def fit(self, x, y=None):\n",
    "        return self\n",
    "\n",
    "    def transform(self, x):\n",
    "        Title_Dictionary = {\n",
    "                \"Capt\": \"Officer\", \"Col\": \"Officer\", \"Major\": \"Officer\",\"Jonkheer\": \"Royalty\",\n",
    "                \"Don\": \"Royalty\",\"Sir\" : \"Royalty\",\"Dr\": \"Officer\",\"Rev\": \"Officer\",\"the Countess\":\"Royalty\",\n",
    "                \"Mme\": \"Mrs\", \"Mlle\": \"Miss\", \"Ms\": \"Mrs\", \"Mr\" : \"Mr\", \"Mrs\" : \"Mrs\", \"Miss\" : \"Miss\",\n",
    "                \"Master\" : \"Master\", \"Lady\" : \"Royalty\"}\n",
    "        \n",
    "        x['Title'] = x['Name'].map(lambda name:name.split(',')[1].split('.')[0].strip())\n",
    "        x['Title'] = x.Title.map(Title_Dictionary)\n",
    "        \n",
    "        x.drop('Name', axis=1, inplace=True)\n",
    "    \n",
    "        titles_dummies = pd.get_dummies(x['Title'], prefix='Title')\n",
    "        x = pd.concat([x, titles_dummies], axis=1)\n",
    "    \n",
    "        x.drop('Title', axis=1, inplace=True)\n",
    "        return x.values"
   ]
  },
  {
   "cell_type": "markdown",
   "metadata": {},
   "source": [
    "### 1.4 Column Transformation"
   ]
  },
  {
   "cell_type": "code",
   "execution_count": 8,
   "metadata": {},
   "outputs": [
    {
     "name": "stdout",
     "output_type": "stream",
     "text": [
      "in the CabinFeatureTransformer init method: \n",
      "in the NameFeatureTransformer Init method: \n"
     ]
    }
   ],
   "source": [
    "from sklearn.compose import ColumnTransformer\n",
    "\n",
    "transformer = ColumnTransformer(\n",
    "    transformers=[\n",
    "        ('num_prep', num_pipe, num_feat),\n",
    "        ('categorical_dat_prep', cat_pipe, cat_feat),\n",
    "        ('cabin_prep', CabinFeatureTransformer(), cabin_feat),\n",
    "        ('name_prep', NameFeatureTransformer(), name_feat)\n",
    "    ])"
   ]
  },
  {
   "cell_type": "markdown",
   "metadata": {},
   "source": [
    "### 1.5 Combining Transformers and Estimators"
   ]
  },
  {
   "cell_type": "code",
   "execution_count": 9,
   "metadata": {},
   "outputs": [],
   "source": [
    "from sklearn.ensemble import RandomForestClassifier\n",
    "final_pipeline = Pipeline(steps=[\n",
    "    ('transformer', transformer),\n",
    "    ('rf_estimator', RandomForestClassifier())\n",
    "])"
   ]
  },
  {
   "cell_type": "code",
   "execution_count": 10,
   "metadata": {},
   "outputs": [
    {
     "name": "stdout",
     "output_type": "stream",
     "text": [
      "in the CabinFeatureTransformer init method: \n",
      "in the NameFeatureTransformer Init method: \n"
     ]
    },
    {
     "data": {
      "text/plain": [
       "Pipeline(steps=[('transformer',\n",
       "                 ColumnTransformer(transformers=[('num_prep',\n",
       "                                                  Pipeline(steps=[('imputer',\n",
       "                                                                   SimpleImputer(strategy='median')),\n",
       "                                                                  ('scaler',\n",
       "                                                                   StandardScaler())]),\n",
       "                                                  ['Age', 'Fare']),\n",
       "                                                 ('categorical_dat_prep',\n",
       "                                                  Pipeline(steps=[('imputer',\n",
       "                                                                   SimpleImputer(fill_value='missing',\n",
       "                                                                                 strategy='constant')),\n",
       "                                                                  ('encoder',\n",
       "                                                                   OneHotEncoder())]),\n",
       "                                                  ['Pclass', 'Sex', 'SibSp',\n",
       "                                                   'Parch', 'Embarked']),\n",
       "                                                 ('cabin_prep',\n",
       "                                                  CabinFeatureTransformer(),\n",
       "                                                  ['Cabin']),\n",
       "                                                 ('name_prep',\n",
       "                                                  NameFeatureTransformer(),\n",
       "                                                  ['Name'])])),\n",
       "                ('rf_estimator', RandomForestClassifier())])"
      ]
     },
     "execution_count": 10,
     "metadata": {},
     "output_type": "execute_result"
    }
   ],
   "source": [
    "final_pipeline.fit(X_train, y_train)"
   ]
  },
  {
   "cell_type": "code",
   "execution_count": 11,
   "metadata": {},
   "outputs": [
    {
     "name": "stdout",
     "output_type": "stream",
     "text": [
      "Accuracy Score:  0.7821229050279329\n",
      "F1 Score:  0.7811181585248036\n",
      "Precision Score:  0.7805690633976433\n",
      "Recall Score:  0.7821229050279329\n"
     ]
    }
   ],
   "source": [
    "import sklearn.metrics as metrics\n",
    "from sklearn.metrics import accuracy_score\n",
    "from sklearn.metrics import f1_score\n",
    "from sklearn.metrics import precision_score\n",
    "from sklearn.metrics import recall_score\n",
    "\n",
    "y_pred = final_pipeline.predict(X_test)\n",
    "\n",
    "print(\"Accuracy Score: \", accuracy_score(y_test, y_pred))\n",
    "print(\"F1 Score: \", f1_score(y_test, y_pred, average='weighted'))\n",
    "print(\"Precision Score: \", precision_score(y_test, y_pred, average='weighted'))\n",
    "print(\"Recall Score: \", recall_score(y_test, y_pred, average='weighted'))"
   ]
  },
  {
   "cell_type": "markdown",
   "metadata": {},
   "source": [
    "##### References:\n",
    "- https://medium.com/analytics-vidhya/scikit-learn-pipelines-with-custom-transformer-a-step-by-step-guide-9b9b886fd2cc\n",
    "- https://github.com/abhi-rawat1/machine_learning_projects/blob/master/Sklearn_Pipeline_Custom_transformer/Titanic_Model_With_Pipeline_CustomTransformer.ipynb\n",
    "---\n",
    "\n",
    "### 1.6 HTML Representation of Pipeline\n",
    "When the Pipeline is printed out in a jupyter notebook an HTML representation of the estimator is displayed as follows:"
   ]
  },
  {
   "cell_type": "code",
   "execution_count": 12,
   "metadata": {},
   "outputs": [
    {
     "data": {
      "text/html": [
       "<style>div.sk-top-container {color: black;background-color: white;}div.sk-toggleable {background-color: white;}label.sk-toggleable__label {cursor: pointer;display: block;width: 100%;margin-bottom: 0;padding: 0.2em 0.3em;box-sizing: border-box;text-align: center;}div.sk-toggleable__content {max-height: 0;max-width: 0;overflow: hidden;text-align: left;background-color: #f0f8ff;}div.sk-toggleable__content pre {margin: 0.2em;color: black;border-radius: 0.25em;background-color: #f0f8ff;}input.sk-toggleable__control:checked~div.sk-toggleable__content {max-height: 200px;max-width: 100%;overflow: auto;}div.sk-estimator input.sk-toggleable__control:checked~label.sk-toggleable__label {background-color: #d4ebff;}div.sk-label input.sk-toggleable__control:checked~label.sk-toggleable__label {background-color: #d4ebff;}input.sk-hidden--visually {border: 0;clip: rect(1px 1px 1px 1px);clip: rect(1px, 1px, 1px, 1px);height: 1px;margin: -1px;overflow: hidden;padding: 0;position: absolute;width: 1px;}div.sk-estimator {font-family: monospace;background-color: #f0f8ff;margin: 0.25em 0.25em;border: 1px dotted black;border-radius: 0.25em;box-sizing: border-box;}div.sk-estimator:hover {background-color: #d4ebff;}div.sk-parallel-item::after {content: \"\";width: 100%;border-bottom: 1px solid gray;flex-grow: 1;}div.sk-label:hover label.sk-toggleable__label {background-color: #d4ebff;}div.sk-serial::before {content: \"\";position: absolute;border-left: 1px solid gray;box-sizing: border-box;top: 2em;bottom: 0;left: 50%;}div.sk-serial {display: flex;flex-direction: column;align-items: center;background-color: white;}div.sk-item {z-index: 1;}div.sk-parallel {display: flex;align-items: stretch;justify-content: center;background-color: white;}div.sk-parallel-item {display: flex;flex-direction: column;position: relative;background-color: white;}div.sk-parallel-item:first-child::after {align-self: flex-end;width: 50%;}div.sk-parallel-item:last-child::after {align-self: flex-start;width: 50%;}div.sk-parallel-item:only-child::after {width: 0;}div.sk-dashed-wrapped {border: 1px dashed gray;margin: 0.2em;box-sizing: border-box;padding-bottom: 0.1em;background-color: white;position: relative;}div.sk-label label {font-family: monospace;font-weight: bold;background-color: white;display: inline-block;line-height: 1.2em;}div.sk-label-container {position: relative;z-index: 2;text-align: center;}div.sk-container {display: inline-block;position: relative;}</style><div class=\"sk-top-container\"><div class=\"sk-container\"><div class=\"sk-item sk-dashed-wrapped\"><div class=\"sk-label-container\"><div class=\"sk-label sk-toggleable\"><input class=\"sk-toggleable__control sk-hidden--visually\" id=\"06c2531a-2a5c-49ae-9d61-81687dd320a8\" type=\"checkbox\" ><label class=\"sk-toggleable__label\" for=\"06c2531a-2a5c-49ae-9d61-81687dd320a8\">Pipeline</label><div class=\"sk-toggleable__content\"><pre>Pipeline(steps=[('transformer',\n",
       "                 ColumnTransformer(transformers=[('num_prep',\n",
       "                                                  Pipeline(steps=[('imputer',\n",
       "                                                                   SimpleImputer(strategy='median')),\n",
       "                                                                  ('scaler',\n",
       "                                                                   StandardScaler())]),\n",
       "                                                  ['Age', 'Fare']),\n",
       "                                                 ('categorical_dat_prep',\n",
       "                                                  Pipeline(steps=[('imputer',\n",
       "                                                                   SimpleImputer(fill_value='missing',\n",
       "                                                                                 strategy='constant')),\n",
       "                                                                  ('encoder',\n",
       "                                                                   OneHotEncoder())]),\n",
       "                                                  ['Pclass', 'Sex', 'SibSp',\n",
       "                                                   'Parch', 'Embarked']),\n",
       "                                                 ('cabin_prep',\n",
       "                                                  CabinFeatureTransformer(),\n",
       "                                                  ['Cabin']),\n",
       "                                                 ('name_prep',\n",
       "                                                  NameFeatureTransformer(),\n",
       "                                                  ['Name'])])),\n",
       "                ('rf_estimator', RandomForestClassifier())])</pre></div></div></div><div class=\"sk-serial\"><div class=\"sk-item sk-dashed-wrapped\"><div class=\"sk-label-container\"><div class=\"sk-label sk-toggleable\"><input class=\"sk-toggleable__control sk-hidden--visually\" id=\"d0b9b727-fd85-4435-b0a3-466edbcf3cd1\" type=\"checkbox\" ><label class=\"sk-toggleable__label\" for=\"d0b9b727-fd85-4435-b0a3-466edbcf3cd1\">transformer: ColumnTransformer</label><div class=\"sk-toggleable__content\"><pre>ColumnTransformer(transformers=[('num_prep',\n",
       "                                 Pipeline(steps=[('imputer',\n",
       "                                                  SimpleImputer(strategy='median')),\n",
       "                                                 ('scaler', StandardScaler())]),\n",
       "                                 ['Age', 'Fare']),\n",
       "                                ('categorical_dat_prep',\n",
       "                                 Pipeline(steps=[('imputer',\n",
       "                                                  SimpleImputer(fill_value='missing',\n",
       "                                                                strategy='constant')),\n",
       "                                                 ('encoder', OneHotEncoder())]),\n",
       "                                 ['Pclass', 'Sex', 'SibSp', 'Parch',\n",
       "                                  'Embarked']),\n",
       "                                ('cabin_prep', CabinFeatureTransformer(),\n",
       "                                 ['Cabin']),\n",
       "                                ('name_prep', NameFeatureTransformer(),\n",
       "                                 ['Name'])])</pre></div></div></div><div class=\"sk-parallel\"><div class=\"sk-parallel-item\"><div class=\"sk-item\"><div class=\"sk-label-container\"><div class=\"sk-label sk-toggleable\"><input class=\"sk-toggleable__control sk-hidden--visually\" id=\"dba938a8-c641-42ed-acc1-0ff931ff510e\" type=\"checkbox\" ><label class=\"sk-toggleable__label\" for=\"dba938a8-c641-42ed-acc1-0ff931ff510e\">num_prep</label><div class=\"sk-toggleable__content\"><pre>['Age', 'Fare']</pre></div></div></div><div class=\"sk-serial\"><div class=\"sk-item\"><div class=\"sk-serial\"><div class=\"sk-item\"><div class=\"sk-estimator sk-toggleable\"><input class=\"sk-toggleable__control sk-hidden--visually\" id=\"68d47018-885a-4e89-a98d-92d89e64e0d8\" type=\"checkbox\" ><label class=\"sk-toggleable__label\" for=\"68d47018-885a-4e89-a98d-92d89e64e0d8\">SimpleImputer</label><div class=\"sk-toggleable__content\"><pre>SimpleImputer(strategy='median')</pre></div></div></div><div class=\"sk-item\"><div class=\"sk-estimator sk-toggleable\"><input class=\"sk-toggleable__control sk-hidden--visually\" id=\"c58c99ec-0218-4852-a219-1165bc9c8b30\" type=\"checkbox\" ><label class=\"sk-toggleable__label\" for=\"c58c99ec-0218-4852-a219-1165bc9c8b30\">StandardScaler</label><div class=\"sk-toggleable__content\"><pre>StandardScaler()</pre></div></div></div></div></div></div></div></div><div class=\"sk-parallel-item\"><div class=\"sk-item\"><div class=\"sk-label-container\"><div class=\"sk-label sk-toggleable\"><input class=\"sk-toggleable__control sk-hidden--visually\" id=\"22d985c5-7d4a-4c92-80f0-dc40398704df\" type=\"checkbox\" ><label class=\"sk-toggleable__label\" for=\"22d985c5-7d4a-4c92-80f0-dc40398704df\">categorical_dat_prep</label><div class=\"sk-toggleable__content\"><pre>['Pclass', 'Sex', 'SibSp', 'Parch', 'Embarked']</pre></div></div></div><div class=\"sk-serial\"><div class=\"sk-item\"><div class=\"sk-serial\"><div class=\"sk-item\"><div class=\"sk-estimator sk-toggleable\"><input class=\"sk-toggleable__control sk-hidden--visually\" id=\"9fb3a724-89ca-43d9-8f86-35215ead42e2\" type=\"checkbox\" ><label class=\"sk-toggleable__label\" for=\"9fb3a724-89ca-43d9-8f86-35215ead42e2\">SimpleImputer</label><div class=\"sk-toggleable__content\"><pre>SimpleImputer(fill_value='missing', strategy='constant')</pre></div></div></div><div class=\"sk-item\"><div class=\"sk-estimator sk-toggleable\"><input class=\"sk-toggleable__control sk-hidden--visually\" id=\"856c2cd7-8121-49f6-a7bf-bb72653b134d\" type=\"checkbox\" ><label class=\"sk-toggleable__label\" for=\"856c2cd7-8121-49f6-a7bf-bb72653b134d\">OneHotEncoder</label><div class=\"sk-toggleable__content\"><pre>OneHotEncoder()</pre></div></div></div></div></div></div></div></div><div class=\"sk-parallel-item\"><div class=\"sk-item\"><div class=\"sk-label-container\"><div class=\"sk-label sk-toggleable\"><input class=\"sk-toggleable__control sk-hidden--visually\" id=\"ad497e1a-f6f7-4514-bf81-08cb9a5437c6\" type=\"checkbox\" ><label class=\"sk-toggleable__label\" for=\"ad497e1a-f6f7-4514-bf81-08cb9a5437c6\">cabin_prep</label><div class=\"sk-toggleable__content\"><pre>['Cabin']</pre></div></div></div><div class=\"sk-serial\"><div class=\"sk-item\"><div class=\"sk-estimator sk-toggleable\"><input class=\"sk-toggleable__control sk-hidden--visually\" id=\"93f22206-ede5-4ae4-b3a4-c0c2aea1e70a\" type=\"checkbox\" ><label class=\"sk-toggleable__label\" for=\"93f22206-ede5-4ae4-b3a4-c0c2aea1e70a\">CabinFeatureTransformer</label><div class=\"sk-toggleable__content\"><pre>CabinFeatureTransformer()</pre></div></div></div></div></div></div><div class=\"sk-parallel-item\"><div class=\"sk-item\"><div class=\"sk-label-container\"><div class=\"sk-label sk-toggleable\"><input class=\"sk-toggleable__control sk-hidden--visually\" id=\"e6f0386e-c3da-4fb4-af71-f8a5f2281682\" type=\"checkbox\" ><label class=\"sk-toggleable__label\" for=\"e6f0386e-c3da-4fb4-af71-f8a5f2281682\">name_prep</label><div class=\"sk-toggleable__content\"><pre>['Name']</pre></div></div></div><div class=\"sk-serial\"><div class=\"sk-item\"><div class=\"sk-estimator sk-toggleable\"><input class=\"sk-toggleable__control sk-hidden--visually\" id=\"aa834ef8-9e47-4845-85e5-17a9280168cc\" type=\"checkbox\" ><label class=\"sk-toggleable__label\" for=\"aa834ef8-9e47-4845-85e5-17a9280168cc\">NameFeatureTransformer</label><div class=\"sk-toggleable__content\"><pre>NameFeatureTransformer()</pre></div></div></div></div></div></div></div></div><div class=\"sk-item\"><div class=\"sk-estimator sk-toggleable\"><input class=\"sk-toggleable__control sk-hidden--visually\" id=\"7c402ec1-dca3-4749-b570-6c17c7baa279\" type=\"checkbox\" ><label class=\"sk-toggleable__label\" for=\"7c402ec1-dca3-4749-b570-6c17c7baa279\">RandomForestClassifier</label><div class=\"sk-toggleable__content\"><pre>RandomForestClassifier()</pre></div></div></div></div></div></div></div>"
      ],
      "text/plain": [
       "Pipeline(steps=[('transformer',\n",
       "                 ColumnTransformer(transformers=[('num_prep',\n",
       "                                                  Pipeline(steps=[('imputer',\n",
       "                                                                   SimpleImputer(strategy='median')),\n",
       "                                                                  ('scaler',\n",
       "                                                                   StandardScaler())]),\n",
       "                                                  ['Age', 'Fare']),\n",
       "                                                 ('categorical_dat_prep',\n",
       "                                                  Pipeline(steps=[('imputer',\n",
       "                                                                   SimpleImputer(fill_value='missing',\n",
       "                                                                                 strategy='constant')),\n",
       "                                                                  ('encoder',\n",
       "                                                                   OneHotEncoder())]),\n",
       "                                                  ['Pclass', 'Sex', 'SibSp',\n",
       "                                                   'Parch', 'Embarked']),\n",
       "                                                 ('cabin_prep',\n",
       "                                                  CabinFeatureTransformer(),\n",
       "                                                  ['Cabin']),\n",
       "                                                 ('name_prep',\n",
       "                                                  NameFeatureTransformer(),\n",
       "                                                  ['Name'])])),\n",
       "                ('rf_estimator', RandomForestClassifier())])"
      ]
     },
     "execution_count": 12,
     "metadata": {},
     "output_type": "execute_result"
    }
   ],
   "source": [
    "from sklearn import set_config\n",
    "set_config(display='diagram')\n",
    "\n",
    "final_pipeline"
   ]
  }
 ],
 "metadata": {
  "kernelspec": {
   "display_name": "Python 3",
   "language": "python",
   "name": "python3"
  },
  "language_info": {
   "codemirror_mode": {
    "name": "ipython",
    "version": 3
   },
   "file_extension": ".py",
   "mimetype": "text/x-python",
   "name": "python",
   "nbconvert_exporter": "python",
   "pygments_lexer": "ipython3",
   "version": "3.7.7"
  }
 },
 "nbformat": 4,
 "nbformat_minor": 4
}
