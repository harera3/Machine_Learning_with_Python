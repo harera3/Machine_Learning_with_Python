{
 "cells": [
  {
   "cell_type": "markdown",
   "metadata": {},
   "source": [
    "## CHAPTER 13\n",
    "---\n",
    "# LINEAR REGRESSION"
   ]
  },
  {
   "cell_type": "markdown",
   "metadata": {},
   "source": [
    "---\n",
    "- Linear regression is one of the simplest supervised learning algorithms in our toolkit\n",
    "- It is so simple that it is sometimes not considered machine learning at all!\n",
    "- The fact is that linear regression—and its extensions—continues to be a common and useful method of making predictions when the target vector is a quantitative value (e.g., home price, age)."
   ]
  },
  {
   "cell_type": "markdown",
   "metadata": {},
   "source": [
    "## 13.1 Fitting a Line"
   ]
  },
  {
   "cell_type": "markdown",
   "metadata": {},
   "source": [
    "**Problem:** You want to train a model that represents a linear relationship between the feature and target vector.\n",
    "\n",
    "**Solution:** Use a linear regression (in scikit-learn, ${LinearRegression}$)"
   ]
  },
  {
   "cell_type": "code",
   "execution_count": 9,
   "metadata": {},
   "outputs": [
    {
     "name": "stdout",
     "output_type": "stream",
     "text": [
      "Intercept: 22.485628113468223\n",
      "Coefficients: [-0.35207832  0.11610909]\n",
      "First Target Value: 24000.0\n",
      "First Observation: 24573.366631705547\n",
      "First Coefficient: -352.07831564026765\n"
     ]
    }
   ],
   "source": [
    "# Load libraries\n",
    "from sklearn.linear_model import LinearRegression\n",
    "from sklearn.datasets import load_boston\n",
    "\n",
    "# Load data with only two features\n",
    "boston = load_boston()\n",
    "features = boston.data[:,0:2]\n",
    "target = boston.target\n",
    "\n",
    "# Create linear regression\n",
    "regression = LinearRegression()\n",
    "\n",
    "# Fit the linear regression\n",
    "model = regression.fit(features, target)\n",
    "\n",
    "# View the intercept\n",
    "print('Intercept:', model.intercept_)\n",
    "\n",
    "# View the feature coefficients\n",
    "print('Coefficients:', model.coef_)\n",
    "\n",
    "# First value in the target vector multiplied by 1000\n",
    "print('First Target Value:', target[0]*1000)\n",
    "\n",
    "# Predict the target value of the first observation, multiplied by 1000\n",
    "print('First Observation:', model.predict(features)[0]*1000)\n",
    "\n",
    "# First coefficient multiplied by 1000\n",
    "print('First Coefficient:', model.coef_[0]*1000)"
   ]
  },
  {
   "cell_type": "markdown",
   "metadata": {},
   "source": [
    "#### Discussion:\n",
    "- In our dataset, the target value is the median value of a Boston home (in the 1970s) in thousands of dollars\n",
    "- The major advantage of linear regression is its interpretability, in large part because the coefficients of the model are the effect of a one-unit change on the target vector.\n",
    "- For example, the first feature in our solution is the number of crimes per resident.\n",
    "    - Our model’s coefficient of this feature was ~–0.35, meaning that if we multiply this coefficient by 1,000, we have the change in house price for each additional one crime per capita\n",
    "- This says that every single crime per capita will decrease the price of the house by approximately $350!"
   ]
  },
  {
   "cell_type": "markdown",
   "metadata": {},
   "source": [
    "## 13.2 Handling Interactive Effects"
   ]
  },
  {
   "cell_type": "markdown",
   "metadata": {},
   "source": [
    "**Problem:** You have a feature whose effect on the target variable depends on another feature.\n",
    "\n",
    "**Solution:** Create an interaction term to capture that dependence using scikit-learn’s $PolynomialFeatures$"
   ]
  },
  {
   "cell_type": "code",
   "execution_count": 10,
   "metadata": {},
   "outputs": [
    {
     "name": "stdout",
     "output_type": "stream",
     "text": [
      "First Observation Feature Values: [6.32e-03 1.80e+01]\n",
      "First Observation Interaction Term: 0.11376\n",
      "First Observation Values: [6.3200e-03 1.8000e+01 1.1376e-01]\n"
     ]
    }
   ],
   "source": [
    "# Load libraries\n",
    "from sklearn.linear_model import LinearRegression\n",
    "from sklearn.datasets import load_boston\n",
    "from sklearn.preprocessing import PolynomialFeatures\n",
    "\n",
    "# Load data with only two features\n",
    "boston = load_boston()\n",
    "features = boston.data[:,0:2]\n",
    "target = boston.target\n",
    "\n",
    "# Create interaction term\n",
    "interaction = PolynomialFeatures(\n",
    "    degree=3, include_bias=False, interaction_only=True)\n",
    "features_interaction = interaction.fit_transform(features)\n",
    "\n",
    "# Create linear regression\n",
    "regression = LinearRegression()\n",
    "\n",
    "# Fit the linear regression\n",
    "model = regression.fit(features_interaction, target)\n",
    "\n",
    "# View the feature values for first observation\n",
    "print('First Observation Feature Values:', features[0])\n",
    "\n",
    "# Import library\n",
    "import numpy as np\n",
    "\n",
    "# For each observation, multiply the values of the first and second feature\n",
    "interaction_term = np.multiply(features[:, 0], features[:, 1])\n",
    "\n",
    "# View interaction term for first observation\n",
    "print('First Observation Interaction Term:', interaction_term[0])\n",
    "\n",
    "# View the values of the first observation\n",
    "print('First Observation Values:', features_interaction[0])"
   ]
  },
  {
   "cell_type": "code",
   "execution_count": null,
   "metadata": {},
   "outputs": [],
   "source": []
  }
 ],
 "metadata": {
  "kernelspec": {
   "display_name": "Python 3",
   "language": "python",
   "name": "python3"
  },
  "language_info": {
   "codemirror_mode": {
    "name": "ipython",
    "version": 3
   },
   "file_extension": ".py",
   "mimetype": "text/x-python",
   "name": "python",
   "nbconvert_exporter": "python",
   "pygments_lexer": "ipython3",
   "version": "3.7.7"
  }
 },
 "nbformat": 4,
 "nbformat_minor": 4
}
